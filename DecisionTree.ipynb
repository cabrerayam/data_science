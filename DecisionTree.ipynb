{
  "cells": [
    {
      "cell_type": "markdown",
      "metadata": {
        "id": "A6ofV6HC_ScT"
      },
      "source": [
        "# Árboles de decisión\n",
        "Como muchos algoritmos de machine-learning, los árboles de decisión pueden utilizarse tanto para problemas de clasificación como de regresión. Cuando implementamos los árboles para regresión, cada vez que se cree una nueva rama, el valor predicho para la variable dependiente será el promedio de las observaciones que caen dentro de la misma. Así, el criterio para separar será aquel que minimice el error entre los valores reales y el valor predicho."
      ]
    },
    {
      "cell_type": "markdown",
      "metadata": {
        "id": "CTa23lYdEML5"
      },
      "source": [
        "### Carga de librerías\n"
      ]
    },
    {
      "cell_type": "code",
      "execution_count": null,
      "metadata": {
        "id": "qOOm67sfHF1P",
        "scrolled": true
      },
      "outputs": [],
      "source": [
        "# Librerias generales y montaje del drive\n",
        "import pandas as pd \n",
        "import matplotlib.pyplot as plt \n",
        "import numpy as np "
      ]
    },
    {
      "cell_type": "markdown",
      "metadata": {
        "id": "77gF7-naF4C8"
      },
      "source": [
        "Módulos de scikit-learn para árboles de clasificación y métricas para evaluar nuestro modelo:"
      ]
    },
    {
      "cell_type": "code",
      "execution_count": null,
      "metadata": {
        "id": "LpBNdB5nGJsL"
      },
      "outputs": [],
      "source": [
        "# Modulos específicos para árboles de decisión\n",
        "from sklearn.tree import DecisionTreeClassifier # Arboles de decisión para regresión\n",
        "from sklearn.tree import plot_tree # Función para visualizar el árbol\n",
        "\n",
        "# Módulos utiles para evaluar el modelo \n",
        "from sklearn.model_selection import train_test_split # Para separar en train y test\n",
        "from sklearn.metrics import plot_confusion_matrix"
      ]
    },
    {
      "cell_type": "code",
      "execution_count": null,
      "metadata": {
        "id": "yWqm8zYdGmH8"
      },
      "outputs": [],
      "source": [
        "from sklearn.datasets import load_iris\n",
        "data = load_iris()\n",
        "species = [data['target_names'][x] for x in data['target']]\n",
        "df = pd.DataFrame(np.column_stack([data['data'], species]), columns=data['feature_names'] + ['species'])"
      ]
    },
    {
      "cell_type": "code",
      "execution_count": null,
      "metadata": {
        "colab": {
          "base_uri": "https://localhost:8080/",
          "height": 224
        },
        "id": "OIrIx7mRHrrd",
        "outputId": "bd4c4798-02bd-4258-8b8e-bfcd62729d52",
        "scrolled": true
      },
      "outputs": [
        {
          "name": "stdout",
          "output_type": "stream",
          "text": [
            "Dimensión del dataset: (150, 5)\n"
          ]
        },
        {
          "data": {
            "text/html": [
              "<div>\n",
              "<style scoped>\n",
              "    .dataframe tbody tr th:only-of-type {\n",
              "        vertical-align: middle;\n",
              "    }\n",
              "\n",
              "    .dataframe tbody tr th {\n",
              "        vertical-align: top;\n",
              "    }\n",
              "\n",
              "    .dataframe thead th {\n",
              "        text-align: right;\n",
              "    }\n",
              "</style>\n",
              "<table border=\"1\" class=\"dataframe\">\n",
              "  <thead>\n",
              "    <tr style=\"text-align: right;\">\n",
              "      <th></th>\n",
              "      <th>sepal length (cm)</th>\n",
              "      <th>sepal width (cm)</th>\n",
              "      <th>petal length (cm)</th>\n",
              "      <th>petal width (cm)</th>\n",
              "      <th>species</th>\n",
              "    </tr>\n",
              "  </thead>\n",
              "  <tbody>\n",
              "    <tr>\n",
              "      <th>0</th>\n",
              "      <td>5.1</td>\n",
              "      <td>3.5</td>\n",
              "      <td>1.4</td>\n",
              "      <td>0.2</td>\n",
              "      <td>setosa</td>\n",
              "    </tr>\n",
              "    <tr>\n",
              "      <th>1</th>\n",
              "      <td>4.9</td>\n",
              "      <td>3.0</td>\n",
              "      <td>1.4</td>\n",
              "      <td>0.2</td>\n",
              "      <td>setosa</td>\n",
              "    </tr>\n",
              "    <tr>\n",
              "      <th>2</th>\n",
              "      <td>4.7</td>\n",
              "      <td>3.2</td>\n",
              "      <td>1.3</td>\n",
              "      <td>0.2</td>\n",
              "      <td>setosa</td>\n",
              "    </tr>\n",
              "  </tbody>\n",
              "</table>\n",
              "</div>"
            ],
            "text/plain": [
              "  sepal length (cm) sepal width (cm) petal length (cm) petal width (cm)  \\\n",
              "0               5.1              3.5               1.4              0.2   \n",
              "1               4.9              3.0               1.4              0.2   \n",
              "2               4.7              3.2               1.3              0.2   \n",
              "\n",
              "  species  \n",
              "0  setosa  \n",
              "1  setosa  \n",
              "2  setosa  "
            ]
          },
          "execution_count": 34,
          "metadata": {},
          "output_type": "execute_result"
        }
      ],
      "source": [
        "print('Dimensión del dataset: {}'.format(df.shape))\n",
        "# Inspección de los primeros datos\n",
        "df.head(3)"
      ]
    },
    {
      "cell_type": "markdown",
      "metadata": {
        "id": "6tnyQs2sMRaP"
      },
      "source": [
        "## Construcción del módelo: árbol de decisión\n"
      ]
    },
    {
      "cell_type": "markdown",
      "metadata": {
        "id": "jotmNl8BNlIt"
      },
      "source": [
        "### Preprocesamiento: selección de features y separación en entrenamiento y testeo"
      ]
    },
    {
      "cell_type": "code",
      "execution_count": null,
      "metadata": {
        "id": "i4JUKxJbGmH_",
        "outputId": "97331a33-00d0-42f8-ed22-5a91d971daad"
      },
      "outputs": [
        {
          "data": {
            "text/plain": [
              "Index(['sepal length (cm)', 'sepal width (cm)', 'petal length (cm)',\n",
              "       'petal width (cm)', 'species'],\n",
              "      dtype='object')"
            ]
          },
          "execution_count": 13,
          "metadata": {},
          "output_type": "execute_result"
        }
      ],
      "source": [
        "df.columns"
      ]
    },
    {
      "cell_type": "code",
      "execution_count": null,
      "metadata": {
        "scrolled": true,
        "id": "zBQsCScaGmIA",
        "outputId": "8c1c9e00-f428-4933-acc7-6c33a9a18bbd"
      },
      "outputs": [
        {
          "name": "stdout",
          "output_type": "stream",
          "text": [
            "Etiquetas ['setosa' 'versicolor' 'virginica']\n",
            "Frecuencias [50 50 50]\n"
          ]
        }
      ],
      "source": [
        "labels, counts = np.unique(df['species'], return_counts=True) # Función que devuelve las etiquetas y las frecuencias\n",
        "\n",
        "print('Etiquetas {}'.format(labels))\n",
        "print('Frecuencias {}'.format(counts))"
      ]
    },
    {
      "cell_type": "markdown",
      "metadata": {
        "id": "rK8QoLsxGmIB"
      },
      "source": [
        "Separamos nuestros datos en train y test. Utilizaremos una partición del 80% y 20% respectivamente"
      ]
    },
    {
      "cell_type": "code",
      "execution_count": null,
      "metadata": {
        "colab": {
          "base_uri": "https://localhost:8080/"
        },
        "id": "yhXZBrlhH-jc",
        "outputId": "4a1c4b6b-db6d-445e-83cd-13643048296d"
      },
      "outputs": [
        {
          "name": "stdout",
          "output_type": "stream",
          "text": [
            "Dimensión de la matriz de features para entrenamiento: (120, 4)\n",
            "Dimensión de la matriz de features para testeo: (30, 4)\n"
          ]
        }
      ],
      "source": [
        "random_seed = 7\n",
        "# Lista de features que vamos a considerar \n",
        "features = ['sepal length (cm)', 'sepal width (cm)', 'petal length (cm)', 'petal width (cm)']\n",
        "\n",
        "# Variable a predecir\n",
        "target = 'species'\n",
        "\n",
        "# Construcción de la matriz de features\n",
        "X = df[features].to_numpy()\n",
        "\n",
        "# Construcción del vector a predecir\n",
        "y = df[target].to_numpy()\n",
        "\n",
        "# Creacion de las matrices de entrenamiento y testeo. \n",
        "X_train, X_test, y_train, y_test = train_test_split(X, y, test_size = 0.20, random_state=random_seed)\n",
        "print('Dimensión de la matriz de features para entrenamiento: {}'.format(X_train.shape))\n",
        "print('Dimensión de la matriz de features para testeo: {}'.format(X_test.shape))"
      ]
    },
    {
      "cell_type": "markdown",
      "metadata": {
        "id": "Xg4j4isZPdsx"
      },
      "source": [
        "### [Creación y ajuste del modelo](https://scikit-learn.org/stable/modules/generated/sklearn.tree.DecisionTreeRegressor.html?highlight=decision%20tree%20regressor)\n",
        "\n",
        "Aquí creamos efectivamente el árbol de clasificación. Vamos a comenzar creando un árbol de profundidad igual a 2 y luego vamos a ir jugando con los distintos parámetros.\n",
        "\n",
        "Como todos los modelos en *scikit-learn* hay una línea que se refiere a la construción del modelo, otra al entrenamiento, y luego podemos predecir o ver la performance del modelo. "
      ]
    },
    {
      "cell_type": "code",
      "execution_count": null,
      "metadata": {
        "colab": {
          "base_uri": "https://localhost:8080/"
        },
        "id": "LuKZyat5Qkpm",
        "outputId": "57b10e4c-f014-4ec1-a2fa-503c08da032d"
      },
      "outputs": [
        {
          "name": "stdout",
          "output_type": "stream",
          "text": [
            "Score en el set de entrenamiento: 1.0\n",
            "Score en el set de testeo: 0.9\n"
          ]
        }
      ],
      "source": [
        "# Entrenamiento del modelo con el método fit\n",
        "# Entrenamiento del modelo\n",
        "arbol = DecisionTreeClassifier(max_leaf_nodes = 5)\n",
        "arbol.fit(X_train, y_train)\n",
        "\n",
        "# Score del modelo en el conjunto de entrenamiento \n",
        "score_in_train = arbol.score(X_train, y_train)\n",
        "\n",
        "# Score del modelo en el conjunto de testeo\n",
        "score_in_test = arbol.score(X_test, y_test)\n",
        "\n",
        "print('Score en el set de entrenamiento: {}'.format(score_in_train))\n",
        "print('Score en el set de testeo: {}'.format(score_in_test))"
      ]
    },
    {
      "cell_type": "code",
      "execution_count": null,
      "metadata": {
        "colab": {
          "base_uri": "https://localhost:8080/"
        },
        "id": "n79jJnT3LJp1",
        "outputId": "d0f1be20-dd1a-4402-f7e5-c0f1f0e4154c"
      },
      "outputs": [
        {
          "name": "stdout",
          "output_type": "stream",
          "text": [
            "Score en el set de entrenamiento: 1.0\n"
          ]
        }
      ],
      "source": [
        "# Score del modelo en los datos de entrenamiento (siempre esperamos que aquí sea alto)\n",
        "score_in_train = arbol.score(X_train, y_train)\n",
        "\n",
        "print('Score en el set de entrenamiento: {}'.format(score_in_train))"
      ]
    },
    {
      "cell_type": "code",
      "execution_count": null,
      "metadata": {
        "colab": {
          "base_uri": "https://localhost:8080/"
        },
        "id": "qsna0bX7LXzl",
        "outputId": "7b88b9ac-a569-4591-99cd-5d6d3cd26ed6"
      },
      "outputs": [
        {
          "name": "stdout",
          "output_type": "stream",
          "text": [
            "Score en el set de testeo: 0.9\n"
          ]
        }
      ],
      "source": [
        "# Score del modelo en los datos de testeo \n",
        "# (acá puede fluctuar pero en general es bajo respecto a los datos de entrenamiento)\n",
        "score_in_test = arbol.score(X_test, y_test)\n",
        "\n",
        "print('Score en el set de testeo: {}'.format(score_in_test))"
      ]
    },
    {
      "cell_type": "markdown",
      "metadata": {
        "id": "AKK23HXrRg3w"
      },
      "source": [
        "#### Visualización del árbol\n",
        "\n",
        "Aquí vamos a visualizar el árbol. Para árboles chicos está bueno, para árboles grandes hay que ajustar bien los tamaños de las figuras."
      ]
    },
    {
      "cell_type": "code",
      "execution_count": null,
      "metadata": {
        "colab": {
          "base_uri": "https://localhost:8080/",
          "height": 734
        },
        "id": "uVyFXS1WMIHS",
        "outputId": "d2547166-4747-4a29-d6da-cbbfc4ef22e8"
      },
      "outputs": [
        {
          "data": {
            "text/plain": [
              "[Text(334.8, 391.392, 'petal length (cm) <= 2.45\\ngini = 0.666\\nsamples = 120\\nvalue = [43, 38, 39]'),\n",
              " Text(167.4, 304.416, 'gini = 0.0\\nsamples = 43\\nvalue = [43, 0, 0]'),\n",
              " Text(502.20000000000005, 304.416, 'petal width (cm) <= 1.7\\ngini = 0.5\\nsamples = 77\\nvalue = [0, 38, 39]'),\n",
              " Text(334.8, 217.44, 'petal length (cm) <= 5.0\\ngini = 0.095\\nsamples = 40\\nvalue = [0, 38, 2]'),\n",
              " Text(167.4, 130.464, 'gini = 0.0\\nsamples = 37\\nvalue = [0, 37, 0]'),\n",
              " Text(502.20000000000005, 130.464, 'sepal length (cm) <= 6.05\\ngini = 0.444\\nsamples = 3\\nvalue = [0, 1, 2]'),\n",
              " Text(334.8, 43.488, 'gini = 0.0\\nsamples = 1\\nvalue = [0, 1, 0]'),\n",
              " Text(669.6, 43.488, 'gini = 0.0\\nsamples = 2\\nvalue = [0, 0, 2]'),\n",
              " Text(669.6, 217.44, 'gini = 0.0\\nsamples = 37\\nvalue = [0, 0, 37]')]"
            ]
          },
          "execution_count": 64,
          "metadata": {},
          "output_type": "execute_result"
        },
        {
          "data": {
            "image/png": "[encoded data removed]",
            "text/plain": [
              "<Figure size 1080x576 with 1 Axes>"
            ]
          },
          "metadata": {
            "needs_background": "light"
          },
          "output_type": "display_data"
        }
      ],
      "source": [
        "# Creamos la figura donde plotear el árbol con matplotlib\n",
        "fig, ax = plt.subplots(figsize = (15, 8))\n",
        "\n",
        "# Llamamos a la función \"plot_tree\" que importamos de sklearn.tree más arriba.\n",
        "# Le pasamos como argumento el modelo que creamos y el nombre de los features.\n",
        "# \"fontsize\" y \"filled\" son solo ajustes de la visualización \n",
        "# y le decimos que plotee el arbol en la figura que creamos\n",
        "plot_tree(arbol, feature_names=features, fontsize = 12, filled = True, ax = ax)"
      ]
    },
    {
      "cell_type": "markdown",
      "metadata": {
        "id": "DLNrvaigwpPP"
      },
      "source": [
        "**¿Cómo interpretamos este gráfico?**\n",
        "\n",
        "- El árbol se lee de arriba hacia abajo. \n",
        "- Cada nodo representa una pregunta que se responde con **verdadero** y **falso**: si es verdadero tomamos la rama de la izquierda; si es falso, la de la derecha.\n",
        "- La pregunta está marcada por la primer línea en cada bloque. \n"
      ]
    },
    {
      "cell_type": "code",
      "execution_count": null,
      "metadata": {
        "scrolled": true,
        "id": "k77nNuAcGmIG",
        "outputId": "4585889c-26fa-47b8-e6ad-056ceeb5734c"
      },
      "outputs": [
        {
          "data": {
            "image/png": "[encoded data removed]",
            "text/plain": [
              "<Figure size 432x288 with 2 Axes>"
            ]
          },
          "metadata": {
            "needs_background": "light"
          },
          "output_type": "display_data"
        }
      ],
      "source": [
        "plot_confusion_matrix(arbol, X_test, y_test)  \n",
        "plt.show()"
      ]
    },
    {
      "cell_type": "code",
      "execution_count": null,
      "metadata": {
        "id": "bhqlDAYKGmIH",
        "outputId": "59d77db2-3604-49d4-e24e-4e4467c1722a"
      },
      "outputs": [
        {
          "name": "stdout",
          "output_type": "stream",
          "text": [
            "Features: ['sepal length (cm)', 'sepal width (cm)', 'petal length (cm)', 'petal width (cm)']\n",
            "Importancia = [0.        0.        0.0314025 0.9685975]\n"
          ]
        }
      ],
      "source": [
        "# Este atributo tiene una medida de la importancia de cada feature\n",
        "feature_importance = arbol.feature_importances_ \n",
        "\n",
        "print('Features: {}'.format(features))\n",
        "print('Importancia = {}'.format(feature_importance))"
      ]
    },
    {
      "cell_type": "code",
      "execution_count": null,
      "metadata": {
        "id": "0KgD748NGmII",
        "outputId": "8455d77a-8b12-4b96-9ab4-a215355b6d4f"
      },
      "outputs": [
        {
          "name": "stderr",
          "output_type": "stream",
          "text": [
            "C:\\ProgramData\\Anaconda3\\envs\\coder_house\\lib\\site-packages\\seaborn\\_decorators.py:36: FutureWarning: Pass the following variables as keyword args: x, y. From version 0.12, the only valid positional argument will be `data`, and passing other arguments without an explicit keyword will result in an error or misinterpretation.\n",
            "  warnings.warn(\n"
          ]
        },
        {
          "data": {
            "image/png": "[encoded data removed]",
            "text/plain": [
              "<Figure size 720x720 with 1 Axes>"
            ]
          },
          "metadata": {
            "needs_background": "light"
          },
          "output_type": "display_data"
        }
      ],
      "source": [
        "#Importancia de las variables\n",
        "import matplotlib.pyplot as plt\n",
        "import seaborn as sns\n",
        "plt.figure(figsize=(10,10))\n",
        "importances = arbol.feature_importances_\n",
        "sns.barplot(features, importances)\n",
        "plt.title('Importancia de cada Feature')\n",
        "plt.show()"
      ]
    },
    {
      "cell_type": "code",
      "execution_count": null,
      "metadata": {
        "id": "rfGFSCctGmIJ"
      },
      "outputs": [],
      "source": []
    }
  ],
  "metadata": {
    "colab": {
      "collapsed_sections": [],
      "name": "DecisionTree_parte1.ipynb",
      "provenance": []
    },
    "kernelspec": {
      "display_name": "coder_house",
      "language": "python",
      "name": "coder_house"
    },
    "language_info": {
      "codemirror_mode": {
        "name": "ipython",
        "version": 3
      },
      "file_extension": ".py",
      "mimetype": "text/x-python",
      "name": "python",
      "nbconvert_exporter": "python",
      "pygments_lexer": "ipython3",
      "version": "3.8.5"
    }
  },
  "nbformat": 4,
  "nbformat_minor": 0
}